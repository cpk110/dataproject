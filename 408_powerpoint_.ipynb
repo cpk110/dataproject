{
  "nbformat": 4,
  "nbformat_minor": 0,
  "metadata": {
    "colab": {
      "provenance": [],
      "authorship_tag": "ABX9TyOMM0EhbAMI1jwlqTYz7zRz",
      "include_colab_link": true
    },
    "kernelspec": {
      "name": "python3",
      "display_name": "Python 3"
    },
    "language_info": {
      "name": "python"
    }
  },
  "cells": [
    {
      "cell_type": "markdown",
      "metadata": {
        "id": "view-in-github",
        "colab_type": "text"
      },
      "source": [
        "<a href=\"https://colab.research.google.com/github/cpk110/dataproject/blob/master/408_powerpoint_.ipynb\" target=\"_parent\"><img src=\"https://colab.research.google.com/assets/colab-badge.svg\" alt=\"Open In Colab\"/></a>"
      ]
    },
    {
      "cell_type": "markdown",
      "source": [
        "## 보고서 자동화 프로젝트\n",
        "\n",
        "- 참고사이트  \n",
        "https://python-pptx.readthedocs.io/en/latest/user/quickstart.html"
      ],
      "metadata": {
        "id": "JYxrySU4oUyU"
      }
    },
    {
      "cell_type": "code",
      "execution_count": 1,
      "metadata": {
        "colab": {
          "base_uri": "https://localhost:8080/"
        },
        "id": "5fM1jDiqoEt0",
        "outputId": "d5318c15-c97c-4961-e5cf-cd681db68e2f"
      },
      "outputs": [
        {
          "output_type": "stream",
          "name": "stdout",
          "text": [
            "Drive already mounted at /content/drive; to attempt to forcibly remount, call drive.mount(\"/content/drive\", force_remount=True).\n",
            "/content/drive/MyDrive/ai_chatbot_python\n"
          ]
        }
      ],
      "source": [
        "from google.colab import drive\n",
        "drive.mount('/content/drive')\n",
        "\n",
        "%cd '/content/drive/MyDrive/ai_chatbot_python'"
      ]
    },
    {
      "cell_type": "code",
      "source": [
        "!pip install python-pptx"
      ],
      "metadata": {
        "colab": {
          "base_uri": "https://localhost:8080/"
        },
        "id": "ZpK_7q7PoT7i",
        "outputId": "f77214f6-7133-43ef-8d44-c2c3369f0fea"
      },
      "execution_count": 2,
      "outputs": [
        {
          "output_type": "stream",
          "name": "stdout",
          "text": [
            "Requirement already satisfied: python-pptx in /usr/local/lib/python3.10/dist-packages (0.6.23)\n",
            "Requirement already satisfied: lxml>=3.1.0 in /usr/local/lib/python3.10/dist-packages (from python-pptx) (4.9.3)\n",
            "Requirement already satisfied: Pillow>=3.3.2 in /usr/local/lib/python3.10/dist-packages (from python-pptx) (9.4.0)\n",
            "Requirement already satisfied: XlsxWriter>=0.5.7 in /usr/local/lib/python3.10/dist-packages (from python-pptx) (3.1.9)\n"
          ]
        }
      ]
    },
    {
      "cell_type": "markdown",
      "source": [
        "### 모든 레이아웃 적용해보기"
      ],
      "metadata": {
        "id": "cshnLZbhpjfp"
      }
    },
    {
      "cell_type": "code",
      "source": [
        "from pptx import Presentation  # 라이브러리\n",
        "from pptx.util import Inches   # 사진, 표 등을 그리기 위해\n",
        "\n",
        "pre = Presentation()  # 파워포인트 객체 선언\n",
        "\n",
        "for i in range(0, 11):\n",
        "  title_slide_layout = pre.slide_layouts[i]  # 슬라이드 종류 선택\n",
        "  slide = pre.slides.add_slide(title_slide_layout)\n",
        "\n",
        "pre.save('ms_ppt/add_all_slides.pptx')"
      ],
      "metadata": {
        "id": "sTIfZlLWpA7C"
      },
      "execution_count": 3,
      "outputs": []
    },
    {
      "cell_type": "markdown",
      "source": [
        "### 레이아웃 별 placehodler 속성 확인하기"
      ],
      "metadata": {
        "id": "VfJsm16prOZx"
      }
    },
    {
      "cell_type": "code",
      "source": [
        "from pptx import Presentation  # 라이브러리\n",
        "from pptx.util import Inches   # 사진, 표 등을 그리기 위해\n",
        "\n",
        "pres = Presentation()  # 파워포인트 객체 선언\n",
        "\n",
        "for i in range(0, 11):\n",
        "  print('-----[%d]-----'% (i))\n",
        "  slide = pres.slides.add_slide(pres.slide_layouts[i])\n",
        "  for shape in slide.placeholders:\n",
        "    print('{} {}'.format(shape.placeholder_format.idx, shape.name))"
      ],
      "metadata": {
        "colab": {
          "base_uri": "https://localhost:8080/"
        },
        "id": "wkVPsxgiqb_m",
        "outputId": "9ba6215c-d398-4806-d2d7-51fd5915b053"
      },
      "execution_count": 4,
      "outputs": [
        {
          "output_type": "stream",
          "name": "stdout",
          "text": [
            "-----[0]-----\n",
            "0 Title 1\n",
            "1 Subtitle 2\n",
            "-----[1]-----\n",
            "0 Title 1\n",
            "1 Content Placeholder 2\n",
            "-----[2]-----\n",
            "0 Title 1\n",
            "1 Text Placeholder 2\n",
            "-----[3]-----\n",
            "0 Title 1\n",
            "1 Content Placeholder 2\n",
            "2 Content Placeholder 3\n",
            "-----[4]-----\n",
            "0 Title 1\n",
            "1 Text Placeholder 2\n",
            "2 Content Placeholder 3\n",
            "3 Text Placeholder 4\n",
            "4 Content Placeholder 5\n",
            "-----[5]-----\n",
            "0 Title 1\n",
            "-----[6]-----\n",
            "-----[7]-----\n",
            "0 Title 1\n",
            "1 Content Placeholder 2\n",
            "2 Text Placeholder 3\n",
            "-----[8]-----\n",
            "0 Title 1\n",
            "1 Picture Placeholder 2\n",
            "2 Text Placeholder 3\n",
            "-----[9]-----\n",
            "0 Title 1\n",
            "1 Vertical Text Placeholder 2\n",
            "-----[10]-----\n",
            "0 Vertical Title 1\n",
            "1 Vertical Text Placeholder 2\n"
          ]
        }
      ]
    },
    {
      "cell_type": "markdown",
      "source": [
        "### 슬라이드 구현하기"
      ],
      "metadata": {
        "id": "aotXpvvPspVB"
      }
    },
    {
      "cell_type": "code",
      "source": [
        "from pptx import Presentation  # 라이브러리\n",
        "from pptx.util import Inches   # 사진, 표 등을 그리기 위해\n",
        "\n",
        "pres = Presentation()  # 파워포인트 객체 선언"
      ],
      "metadata": {
        "id": "IfzdcrHZsB5z"
      },
      "execution_count": 5,
      "outputs": []
    },
    {
      "cell_type": "markdown",
      "source": [
        "- 제목 슬라이드"
      ],
      "metadata": {
        "id": "rnY_EP0vtKFM"
      }
    },
    {
      "cell_type": "code",
      "source": [
        "title_slide_layout = pres.slide_layouts[0]         # 제목 슬라이드에 해당\n",
        "slide = pres.slides.add_slide(title_slide_layout)  # 슬라이드 추가\n",
        "\n",
        "# 제목\n",
        "title = slide.placeholders[0]  # 제목 만들기\n",
        "title.text = 'Hi, there!'      # 제목에 값 넣기\n",
        "\n",
        "# 부제목\n",
        "subtitle = slide.placeholders[1]  # 부제목 만들기\n",
        "subtitle.text = 'python-pptx'      # 부제목에 값 넣기\n",
        "\n",
        "pres.save('ms_ppt/test.pptx')"
      ],
      "metadata": {
        "id": "ER9nFBjns18n"
      },
      "execution_count": 6,
      "outputs": []
    },
    {
      "cell_type": "markdown",
      "source": [
        "- 제목과 내용 슬라이드"
      ],
      "metadata": {
        "id": "FceDNKBnuY_i"
      }
    },
    {
      "cell_type": "code",
      "source": [
        "bullet_slide_layout = pres.slide_layouts[1]         # 제목과 내용 슬라이드\n",
        "slide = pres.slides.add_slide(bullet_slide_layout)  # 슬라이드 추가\n",
        "\n",
        "# 제목\n",
        "title_shape = slide.placeholders[0]\n",
        "title_shape.text = 'Adding a Bullet Slide'\n",
        "\n",
        "# 내용\n",
        "body_shape = slide.placeholders[1]\n",
        "tf = body_shape.text_frame\n",
        "tf.text = 'Find the Bullet slide layout'\n",
        "\n",
        "# 단락추가\n",
        "p = tf.add_paragraph()\n",
        "p.text = 'Use _TextFrame.text for first bullet'\n",
        "p.level = 1  # 들여쓰기 레벨 1\n",
        "\n",
        "# 단락추가\n",
        "p = tf.add_paragraph()\n",
        "p.text = 'Use _TextFrame.tf.add_paragraph() for subsequent bullet'\n",
        "p.level = 2  # 들여쓰기 레벨 2\n",
        "\n",
        "pres.save('ms_ppt/test.pptx')"
      ],
      "metadata": {
        "id": "OqaHKlIUtpqV"
      },
      "execution_count": 7,
      "outputs": []
    },
    {
      "cell_type": "markdown",
      "source": [
        "### 사진 슬라이드"
      ],
      "metadata": {
        "id": "YMvlb-l6w4cl"
      }
    },
    {
      "cell_type": "code",
      "source": [
        "img_path = 'asset/ppt_image/cristmas.jpg'\n",
        "\n",
        "blank_slide_layout = pres.slide_layouts[6]  # 제목/내용이 없는 빈 슬라이드\n",
        "slide = pres.slides.add_slide(blank_slide_layout)\n",
        "\n",
        "left = top = Inches(1)\n",
        "width = height = Inches(1)\n",
        "# width, heigth가 없을 경우 원본 사이즈로 실행됨\n",
        "pic = slide.shapes.add_picture(img_path, left, top, width = width, height = height)\n",
        "\n",
        "left = Inches(3)\n",
        "width = Inches(5.5)\n",
        "height = Inches(5)\n",
        "pic = slide.shapes.add_picture(img_path, left, top, width = width, height = height)\n",
        "\n",
        "pres.save('ms_ppt/test.pptx')"
      ],
      "metadata": {
        "id": "85zdua69wHvN"
      },
      "execution_count": 8,
      "outputs": []
    },
    {
      "cell_type": "markdown",
      "source": [
        "### 표만들기"
      ],
      "metadata": {
        "id": "GS52_8Xk2H5j"
      }
    },
    {
      "cell_type": "code",
      "source": [
        "title_only_slide_layout = pres.slide_layouts[5]\n",
        "slide = pres.slides.add_slide(title_only_slide_layout)\n",
        "shapes = slide.shapes\n",
        "\n",
        "title_shape = slide.placeholders[0]\n",
        "title_shape.text = 'Adding a Table'\n",
        "\n",
        "rows = cols = 2\n",
        "left = top = Inches(2.0)\n",
        "width = Inches(6.0)\n",
        "height = Inches(0.8)\n",
        "\n",
        "table = shapes.add_table(rows, cols, left, top, width, height).table\n",
        "table.columns[0].width = Inches(2.0)\n",
        "table.columns[1].width = Inches(2.0)\n",
        "\n",
        "table.cell(0, 0).text = 'Foo'\n",
        "table.cell(0, 1).text = 'Bar'\n",
        "\n",
        "table.cell(1, 0).text = 'Baz'\n",
        "table.cell(1, 1).text = 'Qux'\n",
        "\n",
        "pres.save('ms_ppt/test.pptx')"
      ],
      "metadata": {
        "id": "q3M7eZnFyc3d"
      },
      "execution_count": 9,
      "outputs": []
    },
    {
      "cell_type": "code",
      "source": [],
      "metadata": {
        "id": "U3EMoXM06Wqo"
      },
      "execution_count": 9,
      "outputs": []
    }
  ]
}